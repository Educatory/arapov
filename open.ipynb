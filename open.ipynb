{
 "cells": [
  {
   "cell_type": "code",
   "execution_count": 1,
   "metadata": {},
   "outputs": [],
   "source": [
    "import gzip\n",
    "import numpy as np\n",
    "import pickle\n",
    "np.set_printoptions(suppress=True)"
   ]
  },
  {
   "cell_type": "code",
   "execution_count": 16,
   "metadata": {},
   "outputs": [
    {
     "data": {
      "text/plain": [
       "BBox(((74.44956331395248, 63.02904804600002), (74.46210459688555, 63.03484056516876)), crs=CRS('4326'))"
      ]
     },
     "execution_count": 16,
     "metadata": {},
     "output_type": "execute_result"
    }
   ],
   "source": [
    "dataset = gzip.GzipFile('datasets/2021-01/ГПН-2013-1/data/L2A.npy.gz', \"r\", True)\n",
    "band = gzip.GzipFile('datasets/2021-01/ГПН-2013-1/mask/CLP.npy.gz', \"r\", True)\n",
    "bbox = gzip.GzipFile('datasets/2021-01/ГПН-2013-1/bbox.pkl.gz', \"r\")\n",
    "meta_info = gzip.GzipFile('datasets/2021-01/ГПН-2013-1/meta_info.pkl.gz', \"r\")\n",
    "timestamp= gzip.GzipFile('datasets/2021-01/ГПН-2013-1/timestamp.pkl.gz', \"r\")\n",
    "pickle.load(bbox)"
   ]
  },
  {
   "cell_type": "code",
   "execution_count": 3,
   "metadata": {},
   "outputs": [
    {
     "data": {
      "text/plain": [
       "{'size_x': 64,\n",
       " 'size_y': 64,\n",
       " 'time_interval': (datetime.datetime(2021, 1, 1, 0, 0),\n",
       "  datetime.datetime(2021, 12, 31, 23, 59, 59)),\n",
       " 'maxcc': 0.05,\n",
       " 'time_difference': datetime.timedelta(0, 3600),\n",
       " 'resolution': 10}"
      ]
     },
     "execution_count": 3,
     "metadata": {},
     "output_type": "execute_result"
    }
   ],
   "source": [
    "pickle.load(meta_info)"
   ]
  },
  {
   "cell_type": "code",
   "execution_count": 8,
   "metadata": {
    "scrolled": true
   },
   "outputs": [
    {
     "data": {
      "text/plain": [
       "[datetime.datetime(2021, 2, 12, 6, 51, 41, tzinfo=tzlocal()),\n",
       " datetime.datetime(2021, 2, 17, 6, 51, 40, tzinfo=tzlocal()),\n",
       " datetime.datetime(2021, 3, 29, 6, 51, 37, tzinfo=tzlocal()),\n",
       " datetime.datetime(2021, 4, 12, 6, 31, 44, tzinfo=tzlocal()),\n",
       " datetime.datetime(2021, 4, 23, 6, 51, 38, tzinfo=tzlocal()),\n",
       " datetime.datetime(2021, 4, 25, 6, 41, 40, tzinfo=tzlocal()),\n",
       " datetime.datetime(2021, 5, 10, 6, 41, 45, tzinfo=tzlocal()),\n",
       " datetime.datetime(2021, 5, 12, 6, 31, 46, tzinfo=tzlocal()),\n",
       " datetime.datetime(2021, 5, 22, 6, 31, 48, tzinfo=tzlocal()),\n",
       " datetime.datetime(2021, 6, 14, 6, 41, 46, tzinfo=tzlocal()),\n",
       " datetime.datetime(2021, 6, 26, 6, 31, 49, tzinfo=tzlocal()),\n",
       " datetime.datetime(2021, 7, 2, 6, 51, 44, tzinfo=tzlocal()),\n",
       " datetime.datetime(2021, 8, 6, 6, 51, 43, tzinfo=tzlocal()),\n",
       " datetime.datetime(2021, 8, 11, 6, 51, 45, tzinfo=tzlocal()),\n",
       " datetime.datetime(2021, 8, 21, 6, 51, 44, tzinfo=tzlocal()),\n",
       " datetime.datetime(2021, 9, 15, 6, 51, 38, tzinfo=tzlocal()),\n",
       " datetime.datetime(2021, 9, 27, 6, 41, 49, tzinfo=tzlocal()),\n",
       " datetime.datetime(2021, 10, 25, 6, 51, 44, tzinfo=tzlocal()),\n",
       " datetime.datetime(2021, 11, 1, 6, 41, 46, tzinfo=tzlocal())]"
      ]
     },
     "execution_count": 8,
     "metadata": {},
     "output_type": "execute_result"
    }
   ],
   "source": [
    "pickle.load(timestamp)"
   ]
  },
  {
   "cell_type": "code",
   "execution_count": 5,
   "metadata": {
    "scrolled": true
   },
   "outputs": [
    {
     "data": {
      "text/plain": [
       "(19, 64, 64, 13)"
      ]
     },
     "execution_count": 5,
     "metadata": {},
     "output_type": "execute_result"
    }
   ],
   "source": [
    "np.load(dataset).shape"
   ]
  },
  {
   "cell_type": "code",
   "execution_count": 17,
   "metadata": {
    "scrolled": false
   },
   "outputs": [],
   "source": [
    "tr = np.load(dataset)"
   ]
  },
  {
   "cell_type": "code",
   "execution_count": 18,
   "metadata": {
    "scrolled": true
   },
   "outputs": [
    {
     "data": {
      "text/plain": [
       "19"
      ]
     },
     "execution_count": 18,
     "metadata": {},
     "output_type": "execute_result"
    }
   ],
   "source": [
    "len(tr)"
   ]
  },
  {
   "cell_type": "code",
   "execution_count": null,
   "metadata": {},
   "outputs": [],
   "source": []
  },
  {
   "cell_type": "code",
   "execution_count": null,
   "metadata": {
    "scrolled": false
   },
   "outputs": [],
   "source": [
    "np.load(band)"
   ]
  },
  {
   "cell_type": "code",
   "execution_count": null,
   "metadata": {},
   "outputs": [],
   "source": []
  },
  {
   "cell_type": "code",
   "execution_count": null,
   "metadata": {},
   "outputs": [],
   "source": []
  }
 ],
 "metadata": {
  "kernelspec": {
   "display_name": "Python 3",
   "language": "python",
   "name": "python3"
  },
  "language_info": {
   "codemirror_mode": {
    "name": "ipython",
    "version": 3
   },
   "file_extension": ".py",
   "mimetype": "text/x-python",
   "name": "python",
   "nbconvert_exporter": "python",
   "pygments_lexer": "ipython3",
   "version": "3.6.9"
  },
  "pycharm": {
   "stem_cell": {
    "cell_type": "raw",
    "source": [],
    "metadata": {
     "collapsed": false
    }
   }
  }
 },
 "nbformat": 4,
 "nbformat_minor": 1
}